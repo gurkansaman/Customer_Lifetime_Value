{
 "cells": [
  {
   "cell_type": "markdown",
   "id": "43f636ef",
   "metadata": {
    "papermill": {
     "duration": 0.013106,
     "end_time": "2021-07-24T19:18:09.704602",
     "exception": false,
     "start_time": "2021-07-24T19:18:09.691496",
     "status": "completed"
    },
    "tags": []
   },
   "source": [
    "## Customer Lifetime Value ~ CLTV \n",
    "\n",
    "**It is the present value of the future cash flows or the value of business attributed to the customer during his or her entire relationship with the company. Description: CLTV is the value a customer contributes to your business over the entire lifetime at your company.**"
   ]
  },
  {
   "cell_type": "code",
   "execution_count": 1,
   "id": "9fcd0662",
   "metadata": {
    "_kg_hide-output": true,
    "execution": {
     "iopub.execute_input": "2021-07-24T19:18:09.739495Z",
     "iopub.status.busy": "2021-07-24T19:18:09.737757Z",
     "iopub.status.idle": "2021-07-24T19:18:32.194517Z",
     "shell.execute_reply": "2021-07-24T19:18:32.193854Z",
     "shell.execute_reply.started": "2021-07-24T10:09:28.108061Z"
    },
    "papermill": {
     "duration": 22.47625,
     "end_time": "2021-07-24T19:18:32.194693",
     "exception": false,
     "start_time": "2021-07-24T19:18:09.718443",
     "status": "completed"
    },
    "tags": []
   },
   "outputs": [
    {
     "name": "stdout",
     "output_type": "stream",
     "text": [
      "Collecting openpyxl\r\n",
      "  Downloading openpyxl-3.0.7-py2.py3-none-any.whl (243 kB)\r\n",
      "\u001b[K     |████████████████████████████████| 243 kB 282 kB/s \r\n",
      "\u001b[?25hCollecting et-xmlfile\r\n",
      "  Downloading et_xmlfile-1.1.0-py3-none-any.whl (4.7 kB)\r\n",
      "Installing collected packages: et-xmlfile, openpyxl\r\n",
      "Successfully installed et-xmlfile-1.1.0 openpyxl-3.0.7\r\n",
      "\u001b[33mWARNING: Running pip as root will break packages and permissions. You should install packages reliably by using venv: https://pip.pypa.io/warnings/venv\u001b[0m\r\n",
      "Collecting lifetimes\r\n",
      "  Downloading Lifetimes-0.11.3-py3-none-any.whl (584 kB)\r\n",
      "\u001b[K     |████████████████████████████████| 584 kB 404 kB/s \r\n",
      "\u001b[?25hRequirement already satisfied: dill>=0.2.6 in /opt/conda/lib/python3.7/site-packages (from lifetimes) (0.3.4)\r\n",
      "Requirement already satisfied: numpy>=1.10.0 in /opt/conda/lib/python3.7/site-packages (from lifetimes) (1.19.5)\r\n",
      "Requirement already satisfied: scipy>=1.0.0 in /opt/conda/lib/python3.7/site-packages (from lifetimes) (1.6.3)\r\n",
      "Requirement already satisfied: pandas>=0.24.0 in /opt/conda/lib/python3.7/site-packages (from lifetimes) (1.2.4)\r\n",
      "Collecting autograd>=1.2.0\r\n",
      "  Downloading autograd-1.3.tar.gz (38 kB)\r\n",
      "Requirement already satisfied: future>=0.15.2 in /opt/conda/lib/python3.7/site-packages (from autograd>=1.2.0->lifetimes) (0.18.2)\r\n",
      "Requirement already satisfied: python-dateutil>=2.7.3 in /opt/conda/lib/python3.7/site-packages (from pandas>=0.24.0->lifetimes) (2.8.1)\r\n",
      "Requirement already satisfied: pytz>=2017.3 in /opt/conda/lib/python3.7/site-packages (from pandas>=0.24.0->lifetimes) (2021.1)\r\n",
      "Requirement already satisfied: six>=1.5 in /opt/conda/lib/python3.7/site-packages (from python-dateutil>=2.7.3->pandas>=0.24.0->lifetimes) (1.15.0)\r\n",
      "Building wheels for collected packages: autograd\r\n",
      "  Building wheel for autograd (setup.py) ... \u001b[?25l-\b \b\\\b \bdone\r\n",
      "\u001b[?25h  Created wheel for autograd: filename=autograd-1.3-py3-none-any.whl size=47989 sha256=9850118ce641e6e75e1c0dd73ea91f217561d183d60d6acbad2ae9bb89901b27\r\n",
      "  Stored in directory: /root/.cache/pip/wheels/ef/32/31/0e87227cd0ca1d99ad51fbe4b54c6fa02afccf7e483d045e04\r\n",
      "Successfully built autograd\r\n",
      "Installing collected packages: autograd, lifetimes\r\n",
      "Successfully installed autograd-1.3 lifetimes-0.11.3\r\n",
      "\u001b[33mWARNING: Running pip as root will break packages and permissions. You should install packages reliably by using venv: https://pip.pypa.io/warnings/venv\u001b[0m\r\n"
     ]
    }
   ],
   "source": [
    "! pip install openpyxl\n",
    "! pip install lifetimes"
   ]
  },
  {
   "cell_type": "code",
   "execution_count": 2,
   "id": "3d76347a",
   "metadata": {
    "execution": {
     "iopub.execute_input": "2021-07-24T19:18:32.251909Z",
     "iopub.status.busy": "2021-07-24T19:18:32.250925Z",
     "iopub.status.idle": "2021-07-24T19:18:33.191368Z",
     "shell.execute_reply": "2021-07-24T19:18:33.190823Z",
     "shell.execute_reply.started": "2021-07-24T10:12:09.661056Z"
    },
    "papermill": {
     "duration": 0.970377,
     "end_time": "2021-07-24T19:18:33.191514",
     "exception": false,
     "start_time": "2021-07-24T19:18:32.221137",
     "status": "completed"
    },
    "tags": []
   },
   "outputs": [],
   "source": [
    "import datetime as dt\n",
    "import pandas as pd\n",
    "import matplotlib.pyplot as plt\n",
    "from lifetimes import BetaGeoFitter\n",
    "from lifetimes import GammaGammaFitter\n",
    "from lifetimes.plotting import plot_period_transactions\n",
    "import numpy as np\n",
    "import warnings\n",
    "warnings.filterwarnings('ignore')"
   ]
  },
  {
   "cell_type": "code",
   "execution_count": 3,
   "id": "36d5d9f5",
   "metadata": {
    "execution": {
     "iopub.execute_input": "2021-07-24T19:18:33.245033Z",
     "iopub.status.busy": "2021-07-24T19:18:33.244319Z",
     "iopub.status.idle": "2021-07-24T19:20:17.535693Z",
     "shell.execute_reply": "2021-07-24T19:20:17.534625Z",
     "shell.execute_reply.started": "2021-07-24T10:12:13.26621Z"
    },
    "papermill": {
     "duration": 104.320512,
     "end_time": "2021-07-24T19:20:17.535894",
     "exception": false,
     "start_time": "2021-07-24T19:18:33.215382",
     "status": "completed"
    },
    "tags": []
   },
   "outputs": [],
   "source": [
    "df = pd.read_excel('/kaggle/input/online-retail/online_retail.xlsx', sheet_name=\"Year 2010-2011\", engine='openpyxl')"
   ]
  },
  {
   "cell_type": "code",
   "execution_count": 4,
   "id": "0b1b2165",
   "metadata": {
    "execution": {
     "iopub.execute_input": "2021-07-24T19:20:17.675321Z",
     "iopub.status.busy": "2021-07-24T19:20:17.674133Z",
     "iopub.status.idle": "2021-07-24T19:20:17.727994Z",
     "shell.execute_reply": "2021-07-24T19:20:17.727307Z",
     "shell.execute_reply.started": "2021-07-24T10:13:25.885608Z"
    },
    "papermill": {
     "duration": 0.168571,
     "end_time": "2021-07-24T19:20:17.728134",
     "exception": false,
     "start_time": "2021-07-24T19:20:17.559563",
     "status": "completed"
    },
    "tags": []
   },
   "outputs": [],
   "source": [
    "# Analysis for United Kingdom\n",
    "\n",
    "df=df[df[\"Country\"]==\"United Kingdom\"]"
   ]
  },
  {
   "cell_type": "code",
   "execution_count": 5,
   "id": "ad48384e",
   "metadata": {
    "execution": {
     "iopub.execute_input": "2021-07-24T19:20:17.787080Z",
     "iopub.status.busy": "2021-07-24T19:20:17.786018Z",
     "iopub.status.idle": "2021-07-24T19:20:18.791679Z",
     "shell.execute_reply": "2021-07-24T19:20:18.792160Z",
     "shell.execute_reply.started": "2021-07-24T10:13:25.981372Z"
    },
    "papermill": {
     "duration": 1.040666,
     "end_time": "2021-07-24T19:20:18.792336",
     "exception": false,
     "start_time": "2021-07-24T19:20:17.751670",
     "status": "completed"
    },
    "tags": []
   },
   "outputs": [
    {
     "data": {
      "text/html": [
       "<div>\n",
       "<style scoped>\n",
       "    .dataframe tbody tr th:only-of-type {\n",
       "        vertical-align: middle;\n",
       "    }\n",
       "\n",
       "    .dataframe tbody tr th {\n",
       "        vertical-align: top;\n",
       "    }\n",
       "\n",
       "    .dataframe thead th {\n",
       "        text-align: right;\n",
       "    }\n",
       "</style>\n",
       "<table border=\"1\" class=\"dataframe\">\n",
       "  <thead>\n",
       "    <tr style=\"text-align: right;\">\n",
       "      <th></th>\n",
       "      <th>Invoice</th>\n",
       "      <th>StockCode</th>\n",
       "      <th>Description</th>\n",
       "      <th>Quantity</th>\n",
       "      <th>InvoiceDate</th>\n",
       "      <th>Price</th>\n",
       "      <th>Customer ID</th>\n",
       "      <th>Country</th>\n",
       "      <th>TotalPrice</th>\n",
       "    </tr>\n",
       "  </thead>\n",
       "  <tbody>\n",
       "    <tr>\n",
       "      <th>0</th>\n",
       "      <td>536365</td>\n",
       "      <td>85123A</td>\n",
       "      <td>WHITE HANGING HEART T-LIGHT HOLDER</td>\n",
       "      <td>6.0</td>\n",
       "      <td>2010-12-01 08:26:00</td>\n",
       "      <td>2.55</td>\n",
       "      <td>17850.0</td>\n",
       "      <td>United Kingdom</td>\n",
       "      <td>15.30</td>\n",
       "    </tr>\n",
       "    <tr>\n",
       "      <th>1</th>\n",
       "      <td>536365</td>\n",
       "      <td>71053</td>\n",
       "      <td>WHITE METAL LANTERN</td>\n",
       "      <td>6.0</td>\n",
       "      <td>2010-12-01 08:26:00</td>\n",
       "      <td>3.39</td>\n",
       "      <td>17850.0</td>\n",
       "      <td>United Kingdom</td>\n",
       "      <td>20.34</td>\n",
       "    </tr>\n",
       "    <tr>\n",
       "      <th>2</th>\n",
       "      <td>536365</td>\n",
       "      <td>84406B</td>\n",
       "      <td>CREAM CUPID HEARTS COAT HANGER</td>\n",
       "      <td>8.0</td>\n",
       "      <td>2010-12-01 08:26:00</td>\n",
       "      <td>2.75</td>\n",
       "      <td>17850.0</td>\n",
       "      <td>United Kingdom</td>\n",
       "      <td>22.00</td>\n",
       "    </tr>\n",
       "    <tr>\n",
       "      <th>3</th>\n",
       "      <td>536365</td>\n",
       "      <td>84029G</td>\n",
       "      <td>KNITTED UNION FLAG HOT WATER BOTTLE</td>\n",
       "      <td>6.0</td>\n",
       "      <td>2010-12-01 08:26:00</td>\n",
       "      <td>3.39</td>\n",
       "      <td>17850.0</td>\n",
       "      <td>United Kingdom</td>\n",
       "      <td>20.34</td>\n",
       "    </tr>\n",
       "    <tr>\n",
       "      <th>4</th>\n",
       "      <td>536365</td>\n",
       "      <td>84029E</td>\n",
       "      <td>RED WOOLLY HOTTIE WHITE HEART.</td>\n",
       "      <td>6.0</td>\n",
       "      <td>2010-12-01 08:26:00</td>\n",
       "      <td>3.39</td>\n",
       "      <td>17850.0</td>\n",
       "      <td>United Kingdom</td>\n",
       "      <td>20.34</td>\n",
       "    </tr>\n",
       "  </tbody>\n",
       "</table>\n",
       "</div>"
      ],
      "text/plain": [
       "  Invoice StockCode                          Description  Quantity  \\\n",
       "0  536365    85123A   WHITE HANGING HEART T-LIGHT HOLDER       6.0   \n",
       "1  536365     71053                  WHITE METAL LANTERN       6.0   \n",
       "2  536365    84406B       CREAM CUPID HEARTS COAT HANGER       8.0   \n",
       "3  536365    84029G  KNITTED UNION FLAG HOT WATER BOTTLE       6.0   \n",
       "4  536365    84029E       RED WOOLLY HOTTIE WHITE HEART.       6.0   \n",
       "\n",
       "          InvoiceDate  Price  Customer ID         Country  TotalPrice  \n",
       "0 2010-12-01 08:26:00   2.55      17850.0  United Kingdom       15.30  \n",
       "1 2010-12-01 08:26:00   3.39      17850.0  United Kingdom       20.34  \n",
       "2 2010-12-01 08:26:00   2.75      17850.0  United Kingdom       22.00  \n",
       "3 2010-12-01 08:26:00   3.39      17850.0  United Kingdom       20.34  \n",
       "4 2010-12-01 08:26:00   3.39      17850.0  United Kingdom       20.34  "
      ]
     },
     "execution_count": 5,
     "metadata": {},
     "output_type": "execute_result"
    }
   ],
   "source": [
    "#########################\n",
    "# Pre Processing\n",
    "#########################\n",
    "\n",
    "def outlier_thresholds(dataframe, variable):\n",
    "    quartile1 = dataframe[variable].quantile(0.01)\n",
    "    quartile3 = dataframe[variable].quantile(0.99)\n",
    "    interquantile_range = quartile3 - quartile1\n",
    "    up_limit = quartile3 + 1.5 * interquantile_range\n",
    "    low_limit = quartile1 - 1.5 * interquantile_range\n",
    "    return low_limit, up_limit\n",
    "\n",
    "\n",
    "def replace_with_thresholds(dataframe, variable):\n",
    "    low_limit, up_limit = outlier_thresholds(dataframe, variable)\n",
    "    dataframe.loc[(dataframe[variable] < low_limit), variable] = low_limit\n",
    "    dataframe.loc[(dataframe[variable] > up_limit), variable] = up_limit\n",
    "\n",
    "df.dropna(inplace=True)\n",
    "df = df[~df[\"Invoice\"].str.contains(\"C\", na=False)]\n",
    "df = df[df[\"Quantity\"] > 0]\n",
    "\n",
    "replace_with_thresholds(df, \"Quantity\")\n",
    "replace_with_thresholds(df, \"Price\")\n",
    "df.describe().T\n",
    "\n",
    "df[\"TotalPrice\"] = df[\"Quantity\"] * df[\"Price\"]\n",
    "\n",
    "today_date = dt.datetime(2011, 12, 11)\n",
    "\n",
    "df.head()"
   ]
  },
  {
   "cell_type": "code",
   "execution_count": 6,
   "id": "70f72214",
   "metadata": {
    "execution": {
     "iopub.execute_input": "2021-07-24T19:20:18.849063Z",
     "iopub.status.busy": "2021-07-24T19:20:18.848346Z",
     "iopub.status.idle": "2021-07-24T19:20:21.178796Z",
     "shell.execute_reply": "2021-07-24T19:20:21.178109Z",
     "shell.execute_reply.started": "2021-07-24T10:13:26.675937Z"
    },
    "papermill": {
     "duration": 2.362599,
     "end_time": "2021-07-24T19:20:21.178964",
     "exception": false,
     "start_time": "2021-07-24T19:20:18.816365",
     "status": "completed"
    },
    "tags": []
   },
   "outputs": [
    {
     "data": {
      "text/html": [
       "<div>\n",
       "<style scoped>\n",
       "    .dataframe tbody tr th:only-of-type {\n",
       "        vertical-align: middle;\n",
       "    }\n",
       "\n",
       "    .dataframe tbody tr th {\n",
       "        vertical-align: top;\n",
       "    }\n",
       "\n",
       "    .dataframe thead th {\n",
       "        text-align: right;\n",
       "    }\n",
       "</style>\n",
       "<table border=\"1\" class=\"dataframe\">\n",
       "  <thead>\n",
       "    <tr style=\"text-align: right;\">\n",
       "      <th></th>\n",
       "      <th>recency</th>\n",
       "      <th>T</th>\n",
       "      <th>frequency</th>\n",
       "      <th>monetary</th>\n",
       "    </tr>\n",
       "    <tr>\n",
       "      <th>Customer ID</th>\n",
       "      <th></th>\n",
       "      <th></th>\n",
       "      <th></th>\n",
       "      <th></th>\n",
       "    </tr>\n",
       "  </thead>\n",
       "  <tbody>\n",
       "    <tr>\n",
       "      <th>12346.0</th>\n",
       "      <td>0</td>\n",
       "      <td>326</td>\n",
       "      <td>1</td>\n",
       "      <td>258.440000</td>\n",
       "    </tr>\n",
       "    <tr>\n",
       "      <th>12747.0</th>\n",
       "      <td>366</td>\n",
       "      <td>370</td>\n",
       "      <td>11</td>\n",
       "      <td>381.455455</td>\n",
       "    </tr>\n",
       "    <tr>\n",
       "      <th>12748.0</th>\n",
       "      <td>372</td>\n",
       "      <td>374</td>\n",
       "      <td>210</td>\n",
       "      <td>153.828143</td>\n",
       "    </tr>\n",
       "    <tr>\n",
       "      <th>12749.0</th>\n",
       "      <td>209</td>\n",
       "      <td>214</td>\n",
       "      <td>5</td>\n",
       "      <td>814.488000</td>\n",
       "    </tr>\n",
       "    <tr>\n",
       "      <th>12820.0</th>\n",
       "      <td>323</td>\n",
       "      <td>327</td>\n",
       "      <td>4</td>\n",
       "      <td>235.585000</td>\n",
       "    </tr>\n",
       "  </tbody>\n",
       "</table>\n",
       "</div>"
      ],
      "text/plain": [
       "             recency    T  frequency    monetary\n",
       "Customer ID                                     \n",
       "12346.0            0  326          1  258.440000\n",
       "12747.0          366  370         11  381.455455\n",
       "12748.0          372  374        210  153.828143\n",
       "12749.0          209  214          5  814.488000\n",
       "12820.0          323  327          4  235.585000"
      ]
     },
     "execution_count": 6,
     "metadata": {},
     "output_type": "execute_result"
    }
   ],
   "source": [
    "#########################\n",
    "# Preparing Dataset\n",
    "#########################\n",
    "\n",
    "# Recency: How recently a customer has made a purchase\n",
    "# Frequency: How often a customer makes a purchase\n",
    "# Monetary Value: How much money a customer spends on purchases\n",
    "\n",
    "cltv_df = df.groupby('Customer ID').agg({'InvoiceDate': [lambda date: (date.max() - date.min()).days,\n",
    "                                                         lambda date: (today_date - date.min()).days],\n",
    "                                        'Invoice': lambda num: num.nunique(),\n",
    "                                        'TotalPrice': lambda TotalPrice: TotalPrice.sum()})\n",
    "\n",
    "cltv_df.columns = cltv_df.columns.droplevel(0)\n",
    "cltv_df.columns = ['recency', 'T', 'frequency', 'monetary']\n",
    "\n",
    "cltv_df[\"monetary\"] = cltv_df[\"monetary\"] / cltv_df[\"frequency\"]\n",
    "\n",
    "cltv_df = cltv_df[cltv_df[\"monetary\"] > 0]\n",
    "\n",
    "cltv_df.head()"
   ]
  },
  {
   "cell_type": "code",
   "execution_count": 7,
   "id": "3d420228",
   "metadata": {
    "execution": {
     "iopub.execute_input": "2021-07-24T19:20:21.235600Z",
     "iopub.status.busy": "2021-07-24T19:20:21.234936Z",
     "iopub.status.idle": "2021-07-24T19:20:21.237903Z",
     "shell.execute_reply": "2021-07-24T19:20:21.237221Z",
     "shell.execute_reply.started": "2021-07-24T10:13:28.701055Z"
    },
    "papermill": {
     "duration": 0.03443,
     "end_time": "2021-07-24T19:20:21.238047",
     "exception": false,
     "start_time": "2021-07-24T19:20:21.203617",
     "status": "completed"
    },
    "tags": []
   },
   "outputs": [],
   "source": [
    "# Eecency and T value is converted to \"Weekly\" \n",
    "cltv_df[\"recency\"] = cltv_df[\"recency\"] / 7\n",
    "cltv_df[\"T\"] = cltv_df[\"T\"] / 7"
   ]
  },
  {
   "cell_type": "code",
   "execution_count": 8,
   "id": "349cdcf8",
   "metadata": {
    "execution": {
     "iopub.execute_input": "2021-07-24T19:20:21.290557Z",
     "iopub.status.busy": "2021-07-24T19:20:21.289891Z",
     "iopub.status.idle": "2021-07-24T19:20:21.294957Z",
     "shell.execute_reply": "2021-07-24T19:20:21.295501Z",
     "shell.execute_reply.started": "2021-07-24T10:13:28.708514Z"
    },
    "papermill": {
     "duration": 0.03281,
     "end_time": "2021-07-24T19:20:21.295708",
     "exception": false,
     "start_time": "2021-07-24T19:20:21.262898",
     "status": "completed"
    },
    "tags": []
   },
   "outputs": [],
   "source": [
    "# If there is lower 1 transaction value, then they are not selected: \n",
    "cltv_df = cltv_df[(cltv_df['frequency'] > 1)]"
   ]
  },
  {
   "cell_type": "code",
   "execution_count": 9,
   "id": "3780034a",
   "metadata": {
    "execution": {
     "iopub.execute_input": "2021-07-24T19:20:21.348897Z",
     "iopub.status.busy": "2021-07-24T19:20:21.348258Z",
     "iopub.status.idle": "2021-07-24T19:20:21.531346Z",
     "shell.execute_reply": "2021-07-24T19:20:21.532235Z",
     "shell.execute_reply.started": "2021-07-24T10:13:28.721825Z"
    },
    "papermill": {
     "duration": 0.211887,
     "end_time": "2021-07-24T19:20:21.532516",
     "exception": false,
     "start_time": "2021-07-24T19:20:21.320629",
     "status": "completed"
    },
    "tags": []
   },
   "outputs": [],
   "source": [
    "bgf = BetaGeoFitter(penalizer_coef=0.001)\n",
    "\n",
    "bgf.fit(cltv_df['frequency'],\n",
    "        cltv_df['recency'],\n",
    "        cltv_df['T'])\n",
    "\n",
    "# 1 haftalık beklenen transaction\n",
    "cltv_df[\"expected_purc_1_week\"] = bgf.predict(1,\n",
    "                                              cltv_df['frequency'],\n",
    "                                              cltv_df['recency'],\n",
    "                                              cltv_df['T'])"
   ]
  },
  {
   "cell_type": "code",
   "execution_count": 10,
   "id": "79f1616c",
   "metadata": {
    "execution": {
     "iopub.execute_input": "2021-07-24T19:20:21.632740Z",
     "iopub.status.busy": "2021-07-24T19:20:21.632085Z",
     "iopub.status.idle": "2021-07-24T19:20:21.642824Z",
     "shell.execute_reply": "2021-07-24T19:20:21.643347Z",
     "shell.execute_reply.started": "2021-07-24T10:13:28.895231Z"
    },
    "papermill": {
     "duration": 0.066377,
     "end_time": "2021-07-24T19:20:21.643519",
     "exception": false,
     "start_time": "2021-07-24T19:20:21.577142",
     "status": "completed"
    },
    "tags": []
   },
   "outputs": [],
   "source": [
    "# For one Monthly, Expcexted Purchase Transactions count\n",
    "cltv_df[\"expected_purc_1_month\"] = bgf.predict(4,\n",
    "                                               cltv_df['frequency'],\n",
    "                                               cltv_df['recency'],\n",
    "                                               cltv_df['T'])"
   ]
  },
  {
   "cell_type": "code",
   "execution_count": 11,
   "id": "0a843ba9",
   "metadata": {
    "execution": {
     "iopub.execute_input": "2021-07-24T19:20:21.697176Z",
     "iopub.status.busy": "2021-07-24T19:20:21.696431Z",
     "iopub.status.idle": "2021-07-24T19:20:21.784364Z",
     "shell.execute_reply": "2021-07-24T19:20:21.784996Z",
     "shell.execute_reply.started": "2021-07-24T10:13:28.93563Z"
    },
    "papermill": {
     "duration": 0.115723,
     "end_time": "2021-07-24T19:20:21.785173",
     "exception": false,
     "start_time": "2021-07-24T19:20:21.669450",
     "status": "completed"
    },
    "tags": []
   },
   "outputs": [
    {
     "data": {
      "text/html": [
       "<div>\n",
       "<style scoped>\n",
       "    .dataframe tbody tr th:only-of-type {\n",
       "        vertical-align: middle;\n",
       "    }\n",
       "\n",
       "    .dataframe tbody tr th {\n",
       "        vertical-align: top;\n",
       "    }\n",
       "\n",
       "    .dataframe thead th {\n",
       "        text-align: right;\n",
       "    }\n",
       "</style>\n",
       "<table border=\"1\" class=\"dataframe\">\n",
       "  <thead>\n",
       "    <tr style=\"text-align: right;\">\n",
       "      <th></th>\n",
       "      <th>recency</th>\n",
       "      <th>T</th>\n",
       "      <th>frequency</th>\n",
       "      <th>monetary</th>\n",
       "      <th>expected_purc_1_week</th>\n",
       "      <th>expected_purc_1_month</th>\n",
       "      <th>expected_average_profit</th>\n",
       "    </tr>\n",
       "    <tr>\n",
       "      <th>Customer ID</th>\n",
       "      <th></th>\n",
       "      <th></th>\n",
       "      <th></th>\n",
       "      <th></th>\n",
       "      <th></th>\n",
       "      <th></th>\n",
       "      <th></th>\n",
       "    </tr>\n",
       "  </thead>\n",
       "  <tbody>\n",
       "    <tr>\n",
       "      <th>12747.0</th>\n",
       "      <td>52.285714</td>\n",
       "      <td>52.857143</td>\n",
       "      <td>11</td>\n",
       "      <td>381.455455</td>\n",
       "      <td>0.202479</td>\n",
       "      <td>0.807679</td>\n",
       "      <td>387.822846</td>\n",
       "    </tr>\n",
       "    <tr>\n",
       "      <th>12748.0</th>\n",
       "      <td>53.142857</td>\n",
       "      <td>53.428571</td>\n",
       "      <td>210</td>\n",
       "      <td>153.828143</td>\n",
       "      <td>3.252952</td>\n",
       "      <td>12.977515</td>\n",
       "      <td>153.971325</td>\n",
       "    </tr>\n",
       "    <tr>\n",
       "      <th>12749.0</th>\n",
       "      <td>29.857143</td>\n",
       "      <td>30.571429</td>\n",
       "      <td>5</td>\n",
       "      <td>814.488000</td>\n",
       "      <td>0.167149</td>\n",
       "      <td>0.665729</td>\n",
       "      <td>844.094697</td>\n",
       "    </tr>\n",
       "    <tr>\n",
       "      <th>12820.0</th>\n",
       "      <td>46.142857</td>\n",
       "      <td>46.714286</td>\n",
       "      <td>4</td>\n",
       "      <td>235.585000</td>\n",
       "      <td>0.103972</td>\n",
       "      <td>0.414566</td>\n",
       "      <td>247.080949</td>\n",
       "    </tr>\n",
       "    <tr>\n",
       "      <th>12822.0</th>\n",
       "      <td>2.285714</td>\n",
       "      <td>12.571429</td>\n",
       "      <td>2</td>\n",
       "      <td>474.440000</td>\n",
       "      <td>0.129141</td>\n",
       "      <td>0.512653</td>\n",
       "      <td>520.828195</td>\n",
       "    </tr>\n",
       "  </tbody>\n",
       "</table>\n",
       "</div>"
      ],
      "text/plain": [
       "               recency          T  frequency    monetary  \\\n",
       "Customer ID                                                \n",
       "12747.0      52.285714  52.857143         11  381.455455   \n",
       "12748.0      53.142857  53.428571        210  153.828143   \n",
       "12749.0      29.857143  30.571429          5  814.488000   \n",
       "12820.0      46.142857  46.714286          4  235.585000   \n",
       "12822.0       2.285714  12.571429          2  474.440000   \n",
       "\n",
       "             expected_purc_1_week  expected_purc_1_month  \\\n",
       "Customer ID                                                \n",
       "12747.0                  0.202479               0.807679   \n",
       "12748.0                  3.252952              12.977515   \n",
       "12749.0                  0.167149               0.665729   \n",
       "12820.0                  0.103972               0.414566   \n",
       "12822.0                  0.129141               0.512653   \n",
       "\n",
       "             expected_average_profit  \n",
       "Customer ID                           \n",
       "12747.0                   387.822846  \n",
       "12748.0                   153.971325  \n",
       "12749.0                   844.094697  \n",
       "12820.0                   247.080949  \n",
       "12822.0                   520.828195  "
      ]
     },
     "execution_count": 11,
     "metadata": {},
     "output_type": "execute_result"
    }
   ],
   "source": [
    "# Expected_average_profit for one customer:\n",
    "\n",
    "ggf = GammaGammaFitter(penalizer_coef=0.01)\n",
    "ggf.fit(cltv_df['frequency'], cltv_df['monetary'])\n",
    "\n",
    "cltv_df[\"expected_average_profit\"] = ggf.conditional_expected_average_profit(cltv_df['frequency'],\n",
    "                                                                             cltv_df['monetary'])\n",
    "\n",
    "cltv_df.head()"
   ]
  },
  {
   "cell_type": "code",
   "execution_count": 12,
   "id": "bddca8c8",
   "metadata": {
    "execution": {
     "iopub.execute_input": "2021-07-24T19:20:21.879995Z",
     "iopub.status.busy": "2021-07-24T19:20:21.879310Z",
     "iopub.status.idle": "2021-07-24T19:20:22.011234Z",
     "shell.execute_reply": "2021-07-24T19:20:22.011839Z",
     "shell.execute_reply.started": "2021-07-24T10:14:08.530316Z"
    },
    "papermill": {
     "duration": 0.181984,
     "end_time": "2021-07-24T19:20:22.012015",
     "exception": false,
     "start_time": "2021-07-24T19:20:21.830031",
     "status": "completed"
    },
    "tags": []
   },
   "outputs": [],
   "source": [
    "# Customer Lifetime Value: for 6 Month:\n",
    "cltv_6 = ggf.customer_lifetime_value(bgf,\n",
    "                                   cltv_df['frequency'],\n",
    "                                   cltv_df['recency'],\n",
    "                                   cltv_df['T'],\n",
    "                                   cltv_df['monetary'],\n",
    "                                   time=6,  # 6 Month\n",
    "                                   freq=\"W\",  # T'nin frekans bilgisi.\n",
    "                                   discount_rate=0.01)\n",
    "\n",
    "cltv_6 = cltv_6.reset_index()"
   ]
  },
  {
   "cell_type": "code",
   "execution_count": 13,
   "id": "eb37c174",
   "metadata": {
    "execution": {
     "iopub.execute_input": "2021-07-24T19:20:22.065991Z",
     "iopub.status.busy": "2021-07-24T19:20:22.065352Z",
     "iopub.status.idle": "2021-07-24T19:20:22.074928Z",
     "shell.execute_reply": "2021-07-24T19:20:22.075415Z",
     "shell.execute_reply.started": "2021-07-24T10:14:19.312779Z"
    },
    "papermill": {
     "duration": 0.038346,
     "end_time": "2021-07-24T19:20:22.075585",
     "exception": false,
     "start_time": "2021-07-24T19:20:22.037239",
     "status": "completed"
    },
    "tags": []
   },
   "outputs": [
    {
     "data": {
      "text/html": [
       "<div>\n",
       "<style scoped>\n",
       "    .dataframe tbody tr th:only-of-type {\n",
       "        vertical-align: middle;\n",
       "    }\n",
       "\n",
       "    .dataframe tbody tr th {\n",
       "        vertical-align: top;\n",
       "    }\n",
       "\n",
       "    .dataframe thead th {\n",
       "        text-align: right;\n",
       "    }\n",
       "</style>\n",
       "<table border=\"1\" class=\"dataframe\">\n",
       "  <thead>\n",
       "    <tr style=\"text-align: right;\">\n",
       "      <th></th>\n",
       "      <th>Customer ID</th>\n",
       "      <th>clv</th>\n",
       "    </tr>\n",
       "  </thead>\n",
       "  <tbody>\n",
       "    <tr>\n",
       "      <th>0</th>\n",
       "      <td>12747.0</td>\n",
       "      <td>1937.046140</td>\n",
       "    </tr>\n",
       "    <tr>\n",
       "      <th>1</th>\n",
       "      <td>12748.0</td>\n",
       "      <td>12365.796180</td>\n",
       "    </tr>\n",
       "    <tr>\n",
       "      <th>2</th>\n",
       "      <td>12749.0</td>\n",
       "      <td>3446.010436</td>\n",
       "    </tr>\n",
       "    <tr>\n",
       "      <th>3</th>\n",
       "      <td>12820.0</td>\n",
       "      <td>631.939332</td>\n",
       "    </tr>\n",
       "    <tr>\n",
       "      <th>4</th>\n",
       "      <td>12822.0</td>\n",
       "      <td>1612.096652</td>\n",
       "    </tr>\n",
       "  </tbody>\n",
       "</table>\n",
       "</div>"
      ],
      "text/plain": [
       "   Customer ID           clv\n",
       "0      12747.0   1937.046140\n",
       "1      12748.0  12365.796180\n",
       "2      12749.0   3446.010436\n",
       "3      12820.0    631.939332\n",
       "4      12822.0   1612.096652"
      ]
     },
     "execution_count": 13,
     "metadata": {},
     "output_type": "execute_result"
    }
   ],
   "source": [
    "# Customer Lifetime Value:\n",
    "cltv_6.head()"
   ]
  }
 ],
 "metadata": {
  "kernelspec": {
   "display_name": "Python 3",
   "language": "python",
   "name": "python3"
  },
  "language_info": {
   "codemirror_mode": {
    "name": "ipython",
    "version": 3
   },
   "file_extension": ".py",
   "mimetype": "text/x-python",
   "name": "python",
   "nbconvert_exporter": "python",
   "pygments_lexer": "ipython3",
   "version": "3.7.10"
  },
  "papermill": {
   "default_parameters": {},
   "duration": 141.709937,
   "end_time": "2021-07-24T19:20:23.314288",
   "environment_variables": {},
   "exception": null,
   "input_path": "__notebook__.ipynb",
   "output_path": "__notebook__.ipynb",
   "parameters": {},
   "start_time": "2021-07-24T19:18:01.604351",
   "version": "2.3.3"
  }
 },
 "nbformat": 4,
 "nbformat_minor": 5
}
